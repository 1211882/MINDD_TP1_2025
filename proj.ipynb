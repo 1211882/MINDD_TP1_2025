{
 "cells": [
  {
   "cell_type": "code",
   "execution_count": 1,
   "id": "6c622a99",
   "metadata": {},
   "outputs": [
    {
     "name": "stdout",
     "output_type": "stream",
     "text": [
      "41188\n",
      "age                  0\n",
      "job                330\n",
      "marital             80\n",
      "education         1731\n",
      "default           8597\n",
      "housing            990\n",
      "loan               990\n",
      "contact              0\n",
      "month                0\n",
      "day_of_week          0\n",
      "duration             0\n",
      "campaign             0\n",
      "pdays                0\n",
      "previous             0\n",
      "poutcome             0\n",
      "emp.var.rate         0\n",
      "cons.price.idx       0\n",
      "cons.conf.idx        0\n",
      "euribor3m            0\n",
      "nr.employed          0\n",
      "y                    0\n",
      "dtype: int64\n"
     ]
    }
   ],
   "source": [
    "import pandas as pd\n",
    "\n",
    "df = pd.read_csv(\"bank_marketing/bank.csv\", sep=\";\")\n",
    "print(len(df))  \n",
    "df.columns = df.columns.str.strip().str.lower()\n",
    "contagem = (df == \"unknown\").sum()\n",
    "print(contagem)\n"
   ]
  },
  {
   "cell_type": "code",
   "execution_count": 101,
   "id": "a66aa0a7",
   "metadata": {},
   "outputs": [
    {
     "name": "stdout",
     "output_type": "stream",
     "text": [
      "41185\n"
     ]
    }
   ],
   "source": [
    "#eliminar quem já falhou pagamentos\n",
    "df.drop(df[df[\"default\"] == \"yes\"].index, inplace=True)\n",
    "print(len(df))"
   ]
  },
  {
   "cell_type": "code",
   "execution_count": null,
   "id": "21c08a76",
   "metadata": {},
   "outputs": [
    {
     "name": "stdout",
     "output_type": "stream",
     "text": [
      "46\n",
      "41139\n",
      "35534\n",
      "age                  0\n",
      "job                271\n",
      "marital             54\n",
      "education         1453\n",
      "default           8018\n",
      "housing            851\n",
      "loan               851\n",
      "contact              0\n",
      "month                0\n",
      "day_of_week          0\n",
      "duration             0\n",
      "campaign             0\n",
      "pdays                0\n",
      "previous             0\n",
      "poutcome             0\n",
      "emp.var.rate         0\n",
      "cons.price.idx       0\n",
      "cons.conf.idx        0\n",
      "euribor3m            0\n",
      "nr.employed          0\n",
      "y                    0\n",
      "dtype: int64\n",
      "404\n",
      "2483\n",
      "678\n",
      "473\n",
      "1605\n",
      "2516\n"
     ]
    }
   ],
   "source": [
    "linhas_filtradas = df[((df[\"job\"] == \"unknown\") | (df[\"marital\"] == \"unknown\")) & (df[\"y\"] == \"yes\")]\n",
    "print(len(linhas_filtradas))\n",
    "#eliminar quem tem job ou marital unknown e y yes\n",
    "df = df[~(((df[\"job\"] == \"unknown\") | (df[\"marital\"] == \"unknown\")) & (df[\"y\"] == \"yes\"))]\n",
    "print(len(df))\n",
    "\n",
    "\n",
    "linhas_filtradas = df[(df[\"previous\"] == 0) ]\n",
    "print(len(linhas_filtradas))\n",
    "contagem = (linhas_filtradas == \"unknown\").sum()\n",
    "print(contagem)\n",
    "linhas_filtradas = df[(df[\"housing\"] == \"yes\") & (df[\"loan\"] == \"yes\") & (df[\"y\"] == \"yes\")]\n",
    "print(len(linhas_filtradas))\n",
    "linhas_filtradas = df[(df[\"housing\"] == \"yes\") &  (df[\"y\"] == \"yes\")]\n",
    "print(len(linhas_filtradas))\n",
    "linhas_filtradas = df[ (df[\"loan\"] == \"yes\") & (df[\"y\"] == \"yes\")]\n",
    "print(len(linhas_filtradas))\n",
    "linhas_filtradas = df[ (df[\"marital\"] == \"divorced\")  & (df[\"y\"] == \"yes\")]\n",
    "print(len(linhas_filtradas))\n",
    "linhas_filtradas = df[ (df[\"marital\"] == \"single\")  & (df[\"y\"] == \"yes\")]\n",
    "print(len(linhas_filtradas))  \n",
    "linhas_filtradas = df[ (df[\"marital\"] == \"married\")  & (df[\"y\"] == \"yes\")]\n",
    "print(len(linhas_filtradas))  \n",
    "\n",
    "\n",
    "\n",
    "\n",
    "\n"
   ]
  },
  {
   "cell_type": "code",
   "execution_count": 57,
   "id": "17d1a3d9",
   "metadata": {},
   "outputs": [
    {
     "name": "stdout",
     "output_type": "stream",
     "text": [
      "loan\n",
      "no         33947\n",
      "yes         6248\n",
      "unknown      990\n",
      "Name: count, dtype: int64\n"
     ]
    },
    {
     "ename": "TypeError",
     "evalue": "object of type 'NoneType' has no len()",
     "output_type": "error",
     "traceback": [
      "\u001b[31m---------------------------------------------------------------------------\u001b[39m",
      "\u001b[31mTypeError\u001b[39m                                 Traceback (most recent call last)",
      "\u001b[36mCell\u001b[39m\u001b[36m \u001b[39m\u001b[32mIn[57]\u001b[39m\u001b[32m, line 6\u001b[39m\n\u001b[32m      2\u001b[39m \u001b[38;5;28mprint\u001b[39m(count_loan) \n\u001b[32m      4\u001b[39m df_loan = df.drop(df[df[\u001b[33m\"\u001b[39m\u001b[33mloan\u001b[39m\u001b[33m\"\u001b[39m] != \u001b[33m\"\u001b[39m\u001b[33myes\u001b[39m\u001b[33m\"\u001b[39m].index, inplace=\u001b[38;5;28;01mTrue\u001b[39;00m)\n\u001b[32m----> \u001b[39m\u001b[32m6\u001b[39m n =\u001b[38;5;28;43mlen\u001b[39;49m\u001b[43m(\u001b[49m\u001b[43mdf_loan\u001b[49m\u001b[43m)\u001b[49m\n\u001b[32m      9\u001b[39m df_loan.drop(df_loan[df_loan[\u001b[33m\"\u001b[39m\u001b[33mdefault\u001b[39m\u001b[33m\"\u001b[39m] == \u001b[33m\"\u001b[39m\u001b[33myes\u001b[39m\u001b[33m\"\u001b[39m].index, inplace=\u001b[38;5;28;01mTrue\u001b[39;00m)\n\u001b[32m     10\u001b[39m nlen(df_loan)\n",
      "\u001b[31mTypeError\u001b[39m: object of type 'NoneType' has no len()"
     ]
    }
   ],
   "source": [
    "count_loan = df[\"loan\"].value_counts()\n",
    "print(count_loan) \n",
    "\n",
    "df_loan = df.drop(df[df[\"loan\"] != \"yes\"].index, inplace=True)\n",
    "\n",
    "n =len(df_loan)\n",
    " \n",
    "\n",
    "df_loan.drop(df_loan[df_loan[\"default\"] == \"yes\"].index, inplace=True)\n",
    "nlen(df_loan)\n",
    "\n"
   ]
  },
  {
   "cell_type": "code",
   "execution_count": null,
   "id": "95e469ca",
   "metadata": {},
   "outputs": [],
   "source": [
    "df = df.iloc[:n//3]\n",
    "df.head()"
   ]
  }
 ],
 "metadata": {
  "kernelspec": {
   "display_name": "Python 3",
   "language": "python",
   "name": "python3"
  },
  "language_info": {
   "codemirror_mode": {
    "name": "ipython",
    "version": 3
   },
   "file_extension": ".py",
   "mimetype": "text/x-python",
   "name": "python",
   "nbconvert_exporter": "python",
   "pygments_lexer": "ipython3",
   "version": "3.13.5"
  }
 },
 "nbformat": 4,
 "nbformat_minor": 5
}
