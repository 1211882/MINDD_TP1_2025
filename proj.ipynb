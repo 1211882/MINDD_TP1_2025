{
 "cells": [
  {
   "cell_type": "markdown",
   "id": "5f21f50e",
   "metadata": {},
   "source": [
    "# 1. Data Presentation\n"
   ]
  },
  {
   "cell_type": "markdown",
   "id": "7e731061",
   "metadata": {},
   "source": [
    "### Import essential libraries:\n",
    "\n",
    "- for data manipulation and visualization: Numpy, Pandas, Seaborn, matplotlib\n",
    "\n",
    "- for preprocessing and handling data imbalance: sklearn.preprocessing, sklearn.impute, imblearn.under_sampling\n",
    "\n",
    "- for text processing: sklearn.feature_extraction.text\n",
    "\n",
    "- for model building and evaluation: sklearn.model_selection, sklearn.metrics\n",
    "\n",
    "- Machine learning models: sklearn.linear_model, sklearn.esemble, sklearn.svm, sklearn.neighbors, sklearn.naive_bayes\n",
    "\n",
    "- Gradient boosting models: xgboost, lightgbm\n",
    "\n",
    "- for building pipelines and transformations: sklearn.pipeline, sklearn.compose\n",
    "\n",
    "- for statistical tests: scipy.stats\n",
    "\n",
    "- Miscellaneous: warnings"
   ]
  },
  {
   "cell_type": "code",
   "execution_count": null,
   "id": "f313053e",
   "metadata": {},
   "outputs": [],
   "source": [
    "# === Core packages ===\n",
    "import numpy as np\n",
    "import pandas as pd\n",
    "import matplotlib.pyplot as plt\n",
    "import seaborn as sns\n",
    "\n",
    "# === Data preprocessing ===\n",
    "from sklearn.preprocessing import StandardScaler, OrdinalEncoder, OneHotEncoder\n",
    "from sklearn.compose import ColumnTransformer\n",
    "from sklearn.pipeline import Pipeline\n",
    "\n",
    "# === Data splitting and evaluation ===\n",
    "from sklearn.model_selection import (\n",
    "    train_test_split, StratifiedKFold, cross_validate, RandomizedSearchCV\n",
    ")\n",
    "from sklearn.metrics import (\n",
    "    roc_auc_score, average_precision_score, f1_score,\n",
    "    balanced_accuracy_score, matthews_corrcoef,\n",
    "    classification_report, confusion_matrix,\n",
    "    RocCurveDisplay, PrecisionRecallDisplay, make_scorer\n",
    ")\n",
    "\n",
    "# === Models ===\n",
    "from sklearn.linear_model import LogisticRegression\n",
    "from sklearn.tree import DecisionTreeClassifier\n",
    "from sklearn.neighbors import KNeighborsClassifier\n",
    "from sklearn.ensemble import (\n",
    "    RandomForestClassifier,\n",
    "    GradientBoostingClassifier,\n",
    "    HistGradientBoostingClassifier,\n",
    "    StackingClassifier\n",
    ")\n",
    "\n",
    "# === Optional (class imbalance & optimization) ===\n",
    "from imblearn.over_sampling import SMOTE\n",
    "from imblearn.pipeline import Pipeline as ImbPipeline\n",
    "from scipy.stats import randint, uniform\n",
    "\n",
    "# === Utilities ===\n",
    "import warnings\n",
    "warnings.filterwarnings('ignore')\n",
    "\n",
    "# Plot settings\n",
    "plt.style.use('fivethirtyeight')\n",
    "%matplotlib inline\n",
    "pd.set_option('display.max_columns', 32)"
   ]
  },
  {
   "cell_type": "markdown",
   "id": "e0a81ad9",
   "metadata": {},
   "source": [
    "### Loading the dataset"
   ]
  },
  {
   "cell_type": "code",
   "execution_count": null,
   "id": "3be409b6",
   "metadata": {},
   "outputs": [],
   "source": [
    "df = pd.read_csv(\"bank_marketing/bank.csv\", sep=\";\")"
   ]
  },
  {
   "cell_type": "markdown",
   "id": "fbc9de05",
   "metadata": {},
   "source": [
    "### First 5 rows of the dataset"
   ]
  },
  {
   "cell_type": "code",
   "execution_count": null,
   "id": "364f9a9e",
   "metadata": {},
   "outputs": [],
   "source": [
    "df.head()"
   ]
  },
  {
   "cell_type": "markdown",
   "id": "4e48cca3",
   "metadata": {},
   "source": [
    "### Last 5 rows of the dataset"
   ]
  },
  {
   "cell_type": "code",
   "execution_count": null,
   "id": "6acb4d55",
   "metadata": {},
   "outputs": [],
   "source": [
    "df.tail()"
   ]
  },
  {
   "cell_type": "markdown",
   "id": "4c08d561",
   "metadata": {},
   "source": [
    "### Checking how many columns (features + target) does the set contain"
   ]
  },
  {
   "cell_type": "code",
   "execution_count": null,
   "id": "07f7ecb2",
   "metadata": {},
   "outputs": [],
   "source": [
    "len(df.columns)"
   ]
  },
  {
   "cell_type": "markdown",
   "id": "fa52b180",
   "metadata": {},
   "source": [
    "### Checking what columns the dataset has"
   ]
  },
  {
   "cell_type": "code",
   "execution_count": null,
   "id": "e958e572",
   "metadata": {},
   "outputs": [],
   "source": [
    "df.columns"
   ]
  },
  {
   "cell_type": "markdown",
   "id": "340809bc",
   "metadata": {},
   "source": [
    "### Checking the type of the colums"
   ]
  },
  {
   "cell_type": "code",
   "execution_count": null,
   "id": "aa92332d",
   "metadata": {},
   "outputs": [],
   "source": [
    "cat_cols = df.select_dtypes(include=['object']).columns.tolist()\n",
    "num_cols = [c for c in df.columns if c not in cat_cols]\n",
    "\n",
    "print('\\nCategorical columns:', cat_cols)\n",
    "print('Numerical columns:', num_cols)"
   ]
  },
  {
   "cell_type": "markdown",
   "id": "1cc671f6",
   "metadata": {},
   "source": [
    "### Checking the shape (rows, columns) in DataFrame"
   ]
  },
  {
   "cell_type": "code",
   "execution_count": null,
   "id": "e2487776",
   "metadata": {},
   "outputs": [],
   "source": [
    "df.shape"
   ]
  },
  {
   "cell_type": "markdown",
   "id": "c184dec3",
   "metadata": {},
   "source": [
    "### Checking the size (number of cells) in DataFrame"
   ]
  },
  {
   "cell_type": "code",
   "execution_count": null,
   "id": "acfe8186",
   "metadata": {},
   "outputs": [],
   "source": [
    "df.size"
   ]
  },
  {
   "cell_type": "markdown",
   "id": "1a04112d",
   "metadata": {},
   "source": [
    "### An overview of the data types, missing values, percentage of missing values, and the number of unique values for each column in the DataFrame"
   ]
  },
  {
   "cell_type": "code",
   "execution_count": null,
   "id": "9a204237",
   "metadata": {},
   "outputs": [],
   "source": [
    "num_cols = df.select_dtypes(exclude='object').columns\n",
    "\n",
    "data_info_num = pd.DataFrame({\n",
    "    'Data Type': df[num_cols].dtypes,\n",
    "    'Missing Values': df[num_cols].isnull().sum(),\n",
    "    'Percentage Missing': (df[num_cols].isnull().sum() / len(df)) * 100,\n",
    "    'Unique Values': df[num_cols].nunique()\n",
    "})\n",
    "\n",
    "data_info_num = data_info_num.sort_values(by='Missing Values', ascending=False)\n",
    "data_info_num.style.format({'Percentage Missing': '{:.2f}%'})"
   ]
  },
  {
   "cell_type": "code",
   "execution_count": null,
   "id": "b1f39155",
   "metadata": {},
   "outputs": [],
   "source": [
    "cat_cols = df.select_dtypes(include='object').columns\n",
    "\n",
    "cat_info = pd.DataFrame({\n",
    "    'Data Type': df[cat_cols].dtypes,\n",
    "    'Unknown Count': [(df[c] == 'unknown').sum() for c in cat_cols],\n",
    "    'Unknown (%)': [(df[c].eq('unknown').sum() / len(df)) * 100 for c in cat_cols],\n",
    "    'Unique Values': [df[c].nunique() for c in cat_cols]\n",
    "})\n",
    "\n",
    "cat_info = cat_info.sort_values(by='Unknown Count', ascending=False)\n",
    "cat_info.style.format({'Unknown (%)': '{:.2f}%'})"
   ]
  },
  {
   "cell_type": "markdown",
   "id": "1a48904d",
   "metadata": {},
   "source": [
    "### Check correlation between numerical variables"
   ]
  },
  {
   "cell_type": "code",
   "execution_count": null,
   "id": "c2a52a1c",
   "metadata": {},
   "outputs": [],
   "source": [
    "# Select numerical columns\n",
    "num_cols = df.select_dtypes(include=['int64','float64']).columns\n",
    "\n",
    "# Calculate correlation matrix\n",
    "corr = df[num_cols].corr()\n",
    "\n",
    "# Show heatmap of correlations\n",
    "plt.figure(figsize=(10,8))\n",
    "sns.heatmap(corr, annot=True, cmap='coolwarm', fmt=\".2f\")\n",
    "plt.title(\"Correlation between numerical variables\")\n",
    "plt.show()"
   ]
  },
  {
   "cell_type": "markdown",
   "id": "a951d6a1",
   "metadata": {},
   "source": [
    "### Check correlation between categorical variables"
   ]
  },
  {
   "cell_type": "code",
   "execution_count": null,
   "id": "4c4ec086",
   "metadata": {},
   "outputs": [],
   "source": [
    "def cramers_v(x, y):\n",
    "    \"\"\"Compute Cramér's V statistic for categorical-categorical association.\"\"\"\n",
    "    confusion_matrix = pd.crosstab(x, y)\n",
    "    chi2 = chi2_contingency(confusion_matrix, correction=False)[0]\n",
    "    n = confusion_matrix.sum().sum()\n",
    "    phi2 = chi2 / n\n",
    "    r, k = confusion_matrix.shape\n",
    "    phi2corr = max(0, phi2 - ((k-1)*(r-1)) / (n-1))\n",
    "    rcorr = r - ((r-1)**2) / (n-1)\n",
    "    kcorr = k - ((k-1)**2) / (n-1)\n",
    "    return np.sqrt(phi2corr / min((kcorr-1), (rcorr-1)))\n",
    "\n",
    "cat_cols = df.select_dtypes(include='object').columns\n",
    "\n",
    "cramers_results = pd.DataFrame(index=cat_cols, columns=cat_cols, dtype=float)\n",
    "\n",
    "for c1 in cat_cols:\n",
    "    for c2 in cat_cols:\n",
    "        if c1 == c2:\n",
    "            cramers_results.loc[c1, c2] = 1.0\n",
    "        else:\n",
    "            cramers_results.loc[c1, c2] = cramers_v(df[c1], df[c2])\n",
    "\n",
    "plt.figure(figsize=(10, 8))\n",
    "sns.heatmap(cramers_results, annot=True, cmap='Blues', fmt=\".2f\", square=True)\n",
    "plt.title(\"Cramér’s V Association between Categorical Variables\", fontsize=14, pad=12)\n",
    "plt.tight_layout()\n",
    "plt.show()"
   ]
  },
  {
   "cell_type": "markdown",
   "id": "b73d0717",
   "metadata": {},
   "source": [
    "--------------------\n",
    "## Descriptive statistics\n",
    "--------------------"
   ]
  },
  {
   "cell_type": "code",
   "execution_count": null,
   "id": "f3638b03",
   "metadata": {},
   "outputs": [],
   "source": [
    "df.describe(include = 'number').T"
   ]
  },
  {
   "cell_type": "code",
   "execution_count": null,
   "id": "739ad145",
   "metadata": {},
   "outputs": [],
   "source": [
    "df.describe(include = 'object').T "
   ]
  },
  {
   "cell_type": "markdown",
   "id": "78a00dc7",
   "metadata": {},
   "source": [
    "### Class balance plot"
   ]
  },
  {
   "cell_type": "code",
   "execution_count": null,
   "id": "3faccf83",
   "metadata": {},
   "outputs": [],
   "source": [
    "fig = plt.figure()\n",
    "(df['y'].value_counts(normalize=True).sort_index()*100).plot(kind='bar')\n",
    "plt.title('Class distribution (percentage)')\n",
    "plt.ylabel('Percent')\n",
    "plt.xlabel('y')\n",
    "plt.show()"
   ]
  },
  {
   "cell_type": "markdown",
   "id": "76775074",
   "metadata": {},
   "source": [
    "-------------------\n",
    "# Data cleaning, feature selection\n",
    "-------------------"
   ]
  },
  {
   "cell_type": "markdown",
   "id": "daa65533",
   "metadata": {},
   "source": [
    "### Dropping duplicated rows"
   ]
  },
  {
   "cell_type": "code",
   "execution_count": null,
   "id": "ea677ef1",
   "metadata": {},
   "outputs": [],
   "source": [
    "df.drop_duplicates(inplace=True)\n",
    "df.size"
   ]
  },
  {
   "cell_type": "markdown",
   "id": "b07fb820",
   "metadata": {},
   "source": [
    "### Columns dropping based on the set description\n",
    "\n",
    "The columns **`y`** (target variable) and **`duration`** will be removed from the modeling dataset to avoid data leakage,  \n",
    "but both will be **saved separately** for later analysis and evaluation at the end of the project."
   ]
  },
  {
   "cell_type": "markdown",
   "id": "63ea0248",
   "metadata": {},
   "source": [
    "### Dropping columns with high correlation"
   ]
  },
  {
   "cell_type": "code",
   "execution_count": null,
   "id": "746dc8ce",
   "metadata": {},
   "outputs": [],
   "source": [
    "df.drop(columns=['pdays', 'cons.price.idx', 'cons.conf.idx', 'nr.employed'], inplace=True)\n",
    "df.columns"
   ]
  },
  {
   "cell_type": "markdown",
   "id": "0c467e11",
   "metadata": {},
   "source": [
    "### Handling 'unknown' values\n",
    "\n",
    "For categorical variables, we treated missing or `'unknown'` values as follows:  \n",
    "- The variables **`education`** and **`default`** were **kept and modeled**, since the `'unknown'` category may carry useful information for prediction.  \n",
    "- For **`job`**, **`marital`**, **`housing`**, and **`loan`**, we **dropped the rows** containing `'unknown'` values because their occurrence was very low (less than 3% of the dataset).  \n",
    "This ensures data consistency while avoiding potential bias due to extremely rare missing categories."
   ]
  },
  {
   "cell_type": "code",
   "execution_count": null,
   "id": "07b486ba",
   "metadata": {},
   "outputs": [],
   "source": [
    "df = df[df['housing'] != 'unknown']\n",
    "df = df[df['loan'] != 'unknown']\n",
    "df = df[df['job'] != 'unknown']\n",
    "df = df[df['marital'] != 'unknown']\n",
    "df['education'] = df['education'].replace('unknown', df['education'].mode()[0])\n",
    "df['default'] = df['default'].replace('unknown', df['default'].mode()[0])\n",
    "\n",
    "cat_cols = df.select_dtypes(include='object').columns\n",
    "cat_info = pd.DataFrame({\n",
    "    'Data Type': df[cat_cols].dtypes,\n",
    "    'Unknown Count': [(df[c] == 'unknown').sum() for c in cat_cols],\n",
    "    'Unknown (%)': [(df[c].eq('unknown').sum() / len(df)) * 100 for c in cat_cols],\n",
    "    'Unique Values': [df[c].nunique() for c in cat_cols]\n",
    "})\n",
    "\n",
    "cat_info = cat_info.sort_values(by='Unknown Count', ascending=False)\n",
    "cat_info.style.format({'Unknown (%)': '{:.2f}%'})\n"
   ]
  },
  {
   "cell_type": "markdown",
   "id": "0141e835",
   "metadata": {},
   "source": [
    "### Columns dropping based on the set description\n",
    "\n",
    "The columns **`y`** (target variable) and **`duration`** will be removed from the modeling dataset to avoid data leakage,  \n",
    "but both will be **saved separately** for later analysis and evaluation at the end of the project."
   ]
  },
  {
   "cell_type": "code",
   "execution_count": null,
   "id": "bdc69588",
   "metadata": {},
   "outputs": [],
   "source": [
    "y = df['y'].copy()\n",
    "duration = df['duration'].copy()\n",
    "\n",
    "df.drop(columns=['duration', 'y'], inplace=True)"
   ]
  },
  {
   "cell_type": "code",
   "execution_count": null,
   "id": "22e3aa11",
   "metadata": {},
   "outputs": [],
   "source": [
    "# Identify categorical and numerical columns\n",
    "cat_cols = df.select_dtypes(include='object').columns.tolist()\n",
    "num_cols = df.select_dtypes(exclude='object').columns.tolist()\n",
    "\n",
    "# 1. Ordinal variables (with natural order)\n",
    "ordinal_features = []\n",
    "ordinal_mappings = []\n",
    "\n",
    "if 'education' in cat_cols:\n",
    "    ordinal_features.append('education')\n",
    "    ordinal_mappings.append([\n",
    "        'illiterate', 'basic.4y', 'basic.6y', 'basic.9y',\n",
    "        'high.school', 'professional.course', 'university.degree', 'unknown'\n",
    "    ])\n",
    "\n",
    "if 'month' in cat_cols:\n",
    "    ordinal_features.append('month')\n",
    "    ordinal_mappings.append([\n",
    "        'jan', 'feb', 'mar', 'apr', 'may', 'jun',\n",
    "        'jul', 'aug', 'sep', 'oct', 'nov', 'dec'\n",
    "    ])\n",
    "\n",
    "# 2. Nominal variables (no natural order)\n",
    "nominal_features = [c for c in cat_cols if c not in ordinal_features]\n",
    "\n",
    "# 3. Define preprocessing pipelines\n",
    "numeric_preprocess = Pipeline(steps=[\n",
    "    ('scaler', StandardScaler())\n",
    "])\n",
    "\n",
    "ordinal_preprocess = Pipeline(steps=[\n",
    "    ('encoder', OrdinalEncoder(categories=ordinal_mappings))\n",
    "])\n",
    "\n",
    "nominal_preprocess = Pipeline(steps=[\n",
    "    ('encoder', OneHotEncoder(handle_unknown='ignore', sparse_output=False))\n",
    "])\n",
    "\n",
    "# 4. Combine everything in a single ColumnTransformer\n",
    "preprocess = ColumnTransformer(transformers=[\n",
    "    ('num', numeric_preprocess, num_cols),\n",
    "    ('ord', ordinal_preprocess, ordinal_features),\n",
    "    ('nom', nominal_preprocess, nominal_features)\n",
    "])\n",
    "\n",
    "# Optional: test fit\n",
    "preprocess.fit(df)\n",
    "\n",
    "print(\"✅ Preprocessing pipeline ready.\")\n",
    "print(f\"Numeric: {len(num_cols)} | Ordinal: {len(ordinal_features)} | Nominal: {len(nominal_features)}\")\n"
   ]
  },
  {
   "cell_type": "code",
   "execution_count": null,
   "id": "6c622a99",
   "metadata": {},
   "outputs": [],
   "source": [
    "\"\"\" # Normalizar nomes das colunas\n",
    "#df.columns = df.columns.str.strip().str.lower()\n",
    "\n",
    "#   converter meses para valores ordinais\n",
    "month_mapping = {\"jan\":1, \"feb\":2, \"mar\":3, \"apr\":4, \"may\":5, \"jun\":6,\n",
    "                 \"jul\":7, \"aug\":8, \"sep\":9, \"oct\":10, \"nov\":11, \"dec\":12}\n",
    "\n",
    "df[\"month_ordinal\"] = df[\"month\"].map(month_mapping)\n",
    "\n",
    "#one hot encoding para meses\n",
    "df_month = pd.get_dummies(df[\"month\"], prefix=\"month\")\n",
    "df = pd.concat([df, df_month], axis=1)\n",
    "df.drop(\"month\", axis=1, inplace=True)\n",
    "\n",
    "#converter dias da semana para valores ordinais\n",
    "df_day = pd.get_dummies(df[\"day_of_week\"], prefix=\"day\")\n",
    "df = pd.concat([df, df_day], axis=1)\n",
    "df.drop(\"day_of_week\", axis=1, inplace=True)\n",
    "\n",
    "\n",
    "#importar min e max scaler \n",
    "from sklearn.preprocessing import MinMaxScaler\n",
    "scaler = MinMaxScaler()\n",
    "df[['age', 'campaign', 'previous']] = scaler.fit_transform(df[['age', 'campaign', 'previous']])\n",
    "\n",
    "#padronizar colunas categoricas\n",
    "df = pd.get_dummies(df, columns=['job', 'marital', 'education', 'default', \n",
    "                                 'housing', 'loan', 'contact', 'poutcome'], drop_first=True)\n",
    "\n",
    "#verificar se existe valores nulos  \n",
    "print(\"\\nValores nulos por coluna:\")\n",
    "print(df.isnull().sum())\n",
    " \"\"\"\n",
    "\n"
   ]
  },
  {
   "cell_type": "code",
   "execution_count": null,
   "id": "afc61a0e",
   "metadata": {},
   "outputs": [],
   "source": [
    "\"\"\" #Amostra exploratória estratificada\n",
    "# df tem colunas: 'customer_id', 'date', 'y'\n",
    "sample_frac = 0.05\n",
    "\n",
    "def sample_group(x):\n",
    "    n = max(1, int(round(len(x) * sample_frac)))  # pelo menos 1 por grupo\n",
    "    return x.sample(n=n, random_state=42)\n",
    "\n",
    "df_small = df.groupby('y', group_keys=False).apply(sample_group).reset_index(drop=True)\n",
    "\n",
    "\n",
    "#Split temporal (treino/val/test por datas)\n",
    "df['day_of_week'] = pd.to_datetime(df['day_of_week'])\n",
    "\n",
    "# Define limites (ajusta as datas conforme os teus dados)\n",
    "train_end = '2011-12-31'\n",
    "val_end   = '2012-12-31'\n",
    "\n",
    "train = df[df['day_of_week'] <= train_end].copy()\n",
    "val   = df[(df['day_of_week'] > train_end) & (df['day_of_week'] <= val_end)].copy()\n",
    "test  = df[df['day_of_week'] > val_end].copy()\n",
    "\n",
    "print(len(train), len(val), len(test))\n",
    "\n",
    "# oversampling\n",
    "from imblearn.pipeline import Pipeline as ImbPipeline\n",
    "from imblearn.over_sampling import SMOTE\n",
    "from sklearn.preprocessing import StandardScaler\n",
    "from sklearn.linear_model import LogisticRegression\n",
    "\n",
    "X_train = train.drop(columns=['y','customer_id','date'])\n",
    "y_train = train['y']\n",
    "\n",
    "# Pipeline exemplo\n",
    "pipe = ImbPipeline([\n",
    "    ('scaler', StandardScaler()),\n",
    "    ('smote', SMOTE(random_state=42)),\n",
    "    ('clf', LogisticRegression(max_iter=1000))\n",
    "])\n",
    "\n",
    "pipe.fit(X_train, y_train)\n",
    "# GroupKFold por customer_id (para CV que evita vazamento entre clientes)\n",
    "from sklearn.model_selection import GroupKFold, cross_val_score\n",
    "\n",
    "X = train.drop(columns=['y','date'])\n",
    "y = train['y']\n",
    "groups = train['customer_id']\n",
    "\n",
    "gkf = GroupKFold(n_splits=5)\n",
    "for fold, (tr_idx, val_idx) in enumerate(gkf.split(X, y, groups=groups)):\n",
    "    X_tr, X_val = X.iloc[tr_idx], X.iloc[val_idx]\n",
    "    y_tr, y_val = y.iloc[tr_idx], y.iloc[val_idx]\n",
    "    # aplica oversampling apenas em X_tr/y_tr se quiser\n",
    "\n",
    "\n",
    "import numpy as np\n",
    "\n",
    "def precision_at_k(y_true, y_score, k=0.05):\n",
    "    # k como fracção do dataset (ex. 0.05 = top 5%)\n",
    "    n = int(len(y_score) * k)\n",
    "    idx = np.argsort(y_score)[::-1][:n]\n",
    "    return y_true.iloc[idx].mean()\n",
    "\n",
    "# após treinar o modelo e obter scores no test:\n",
    "y_scores = model.predict_proba(X_test)[:,1]\n",
    "print(\"Precision@5%:\", precision_at_k(y_test.reset_index(drop=True), pd.Series(y_scores), k=0.05))\n",
    " \"\"\"\n",
    "\n",
    "\n"
   ]
  },
  {
   "cell_type": "code",
   "execution_count": null,
   "id": "fb7300ab",
   "metadata": {},
   "outputs": [],
   "source": [
    "# --- Modeling setup (final clean version) ---\n",
    "\n",
    "# ✅ Ensure target separation\n",
    "# (df already has only feature columns; 'y' was removed earlier)\n",
    "X = df.copy()\n",
    "y = y.map({'yes': 1, 'no': 0}) if y.dtype == 'object' else y\n",
    "\n",
    "# ✅ Ensure preprocessing pipeline exists\n",
    "assert 'preprocess' in globals(), \"Preprocessing pipeline not found. Please run the Data Preparation section first.\"\n",
    "\n",
    "# ✅ Train/test split\n",
    "X_train, X_test, y_train, y_test = train_test_split(\n",
    "    X, y, test_size=0.2, stratify=y, random_state=42\n",
    ")\n",
    "\n",
    "# ✅ Define cross-validation and scoring metrics\n",
    "scoring = {\n",
    "    'roc_auc': 'roc_auc',\n",
    "    'pr_auc': make_scorer(average_precision_score, needs_proba=True),\n",
    "    'f1': 'f1',\n",
    "    'bal_acc': 'balanced_accuracy',\n",
    "    'mcc': make_scorer(matthews_corrcoef)\n",
    "}\n",
    "cv = StratifiedKFold(n_splits=5, shuffle=True, random_state=42)\n",
    "\n",
    "# ✅ Define models with shared preprocessing pipeline\n",
    "models = [\n",
    "    ('LogReg', Pipeline([\n",
    "        ('prep', preprocess),\n",
    "        ('clf', LogisticRegression(max_iter=1000, class_weight='balanced',\n",
    "                                   solver='saga', random_state=42))\n",
    "    ])),\n",
    "    ('DecisionTree', Pipeline([\n",
    "        ('prep', preprocess),\n",
    "        ('clf', DecisionTreeClassifier(class_weight='balanced', random_state=42))\n",
    "    ])),\n",
    "    ('RandomForest', Pipeline([\n",
    "        ('prep', preprocess),\n",
    "        ('clf', RandomForestClassifier(n_estimators=400, class_weight='balanced',\n",
    "                                       n_jobs=-1, random_state=42))\n",
    "    ])),\n",
    "    ('GradientBoosting', Pipeline([\n",
    "        ('prep', preprocess),\n",
    "        ('clf', GradientBoostingClassifier(random_state=42))\n",
    "    ])),\n",
    "    ('HistGradientBoosting', Pipeline([\n",
    "        ('prep', preprocess),\n",
    "        ('clf', HistGradientBoostingClassifier(random_state=42))\n",
    "    ])),\n",
    "    ('kNN', Pipeline([\n",
    "        ('prep', preprocess),\n",
    "        ('clf', KNeighborsClassifier(n_neighbors=7))\n",
    "    ]))\n",
    "]\n",
    "\n",
    "# ✅ Function to compute cross-validation results\n",
    "def cv_table(name, model):\n",
    "    scores = cross_validate(model, X_train, y_train, cv=cv,\n",
    "                            scoring=scoring, n_jobs=-1)\n",
    "    results = {m: (scores[f'test_{m}'].mean(), scores[f'test_{m}'].std())\n",
    "               for m in scoring}\n",
    "    df_out = pd.DataFrame({k: {'mean': v[0], 'std': v[1]}\n",
    "                           for k, v in results.items()}).T\n",
    "    df_out['model'] = name\n",
    "    return df_out.reset_index()\n",
    "\n",
    "# ✅ Evaluate all models via cross-validation\n",
    "cv_results = []\n",
    "for name, mdl in models:\n",
    "    cv_results.append(cv_table(name, mdl))\n",
    "\n",
    "cv_df = pd.concat(cv_results, ignore_index=True)\n",
    "\n",
    "# ✅ Summarize model performance\n",
    "cv_summary = (\n",
    "    cv_df.pivot(index='model', columns='index', values='mean')\n",
    "          .loc[:, ['pr_auc', 'f1', 'roc_auc', 'bal_acc', 'mcc']]\n",
    "          .sort_values(by=['pr_auc', 'f1', 'roc_auc'], ascending=False)\n",
    ")\n",
    "\n",
    "cv_summary\n"
   ]
  },
  {
   "cell_type": "code",
   "execution_count": null,
   "id": "4693e97e",
   "metadata": {},
   "outputs": [],
   "source": [
    "# --- Class rebalancing with SMOTE (oversampling minority class) ---\n",
    "\n",
    "from imblearn.over_sampling import SMOTE\n",
    "from imblearn.pipeline import Pipeline as ImbPipeline\n",
    "\n",
    "# Rebuild models using SMOTE inside the pipeline\n",
    "smote_models = [\n",
    "    ('LogReg_SMOTE', ImbPipeline([\n",
    "        ('prep', preprocess),\n",
    "        ('smote', SMOTE(random_state=42)),\n",
    "        ('clf', LogisticRegression(max_iter=1000, solver='saga', random_state=42))\n",
    "    ])),\n",
    "    ('RandomForest_SMOTE', ImbPipeline([\n",
    "        ('prep', preprocess),\n",
    "        ('smote', SMOTE(random_state=42)),\n",
    "        ('clf', RandomForestClassifier(n_estimators=400, n_jobs=-1, random_state=42))\n",
    "    ])),\n",
    "    ('HistGradientBoosting_SMOTE', ImbPipeline([\n",
    "        ('prep', preprocess),\n",
    "        ('smote', SMOTE(random_state=42)),\n",
    "        ('clf', HistGradientBoostingClassifier(random_state=42))\n",
    "    ]))\n",
    "]\n",
    "\n",
    "# Evaluate SMOTE models via cross-validation\n",
    "cv_results_smote = []\n",
    "for name, mdl in smote_models:\n",
    "    cv_results_smote.append(cv_table(name, mdl))\n",
    "\n",
    "cv_df_smote = pd.concat(cv_results_smote, ignore_index=True)\n",
    "\n",
    "# Compare with previous results\n",
    "cv_summary_smote = (\n",
    "    cv_df_smote.pivot(index='model', columns='index', values='mean')\n",
    "               .loc[:, ['pr_auc', 'f1', 'roc_auc', 'bal_acc', 'mcc']]\n",
    "               .sort_values(by=['pr_auc', 'f1', 'roc_auc'], ascending=False)\n",
    ")\n",
    "\n",
    "cv_summary_smote\n"
   ]
  }
 ],
 "metadata": {
  "kernelspec": {
   "display_name": "Python 3",
   "language": "python",
   "name": "python3"
  },
  "language_info": {
   "codemirror_mode": {
    "name": "ipython",
    "version": 3
   },
   "file_extension": ".py",
   "mimetype": "text/x-python",
   "name": "python",
   "nbconvert_exporter": "python",
   "pygments_lexer": "ipython3",
   "version": "3.11.7"
  }
 },
 "nbformat": 4,
 "nbformat_minor": 5
}
